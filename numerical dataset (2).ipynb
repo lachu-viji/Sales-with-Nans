{
 "cells": [
  {
   "cell_type": "code",
   "execution_count": 4,
   "id": "6d3922a4-b783-4011-b010-eb5d330acac4",
   "metadata": {},
   "outputs": [],
   "source": [
    "import pandas as pd\n",
    "import numpy as np"
   ]
  },
  {
   "cell_type": "code",
   "execution_count": 5,
   "id": "3c27b3a2-7238-4f6d-9d65-7e4e82d43258",
   "metadata": {},
   "outputs": [],
   "source": [
    "df=pd.read_csv(\"numerical_dataset_with_nulls.csv\")"
   ]
  },
  {
   "cell_type": "code",
   "execution_count": 6,
   "id": "1f4c0a87-5b84-4468-852c-a2c431234757",
   "metadata": {},
   "outputs": [
    {
     "data": {
      "text/html": [
       "<div>\n",
       "<style scoped>\n",
       "    .dataframe tbody tr th:only-of-type {\n",
       "        vertical-align: middle;\n",
       "    }\n",
       "\n",
       "    .dataframe tbody tr th {\n",
       "        vertical-align: top;\n",
       "    }\n",
       "\n",
       "    .dataframe thead th {\n",
       "        text-align: right;\n",
       "    }\n",
       "</style>\n",
       "<table border=\"1\" class=\"dataframe\">\n",
       "  <thead>\n",
       "    <tr style=\"text-align: right;\">\n",
       "      <th></th>\n",
       "      <th>ID</th>\n",
       "      <th>Age</th>\n",
       "      <th>Income</th>\n",
       "      <th>Spend_Score</th>\n",
       "      <th>Savings</th>\n",
       "    </tr>\n",
       "  </thead>\n",
       "  <tbody>\n",
       "    <tr>\n",
       "      <th>0</th>\n",
       "      <td>1</td>\n",
       "      <td>32.0</td>\n",
       "      <td>27013.67</td>\n",
       "      <td>60.26</td>\n",
       "      <td>1463.65</td>\n",
       "    </tr>\n",
       "    <tr>\n",
       "      <th>1</th>\n",
       "      <td>2</td>\n",
       "      <td>29.0</td>\n",
       "      <td>12558.37</td>\n",
       "      <td>89.07</td>\n",
       "      <td>20567.88</td>\n",
       "    </tr>\n",
       "    <tr>\n",
       "      <th>2</th>\n",
       "      <td>3</td>\n",
       "      <td>33.0</td>\n",
       "      <td>6384.02</td>\n",
       "      <td>54.71</td>\n",
       "      <td>537.38</td>\n",
       "    </tr>\n",
       "    <tr>\n",
       "      <th>3</th>\n",
       "      <td>4</td>\n",
       "      <td>NaN</td>\n",
       "      <td>20595.43</td>\n",
       "      <td>114.40</td>\n",
       "      <td>17626.95</td>\n",
       "    </tr>\n",
       "    <tr>\n",
       "      <th>4</th>\n",
       "      <td>5</td>\n",
       "      <td>29.0</td>\n",
       "      <td>143156.06</td>\n",
       "      <td>72.51</td>\n",
       "      <td>56345.11</td>\n",
       "    </tr>\n",
       "    <tr>\n",
       "      <th>...</th>\n",
       "      <td>...</td>\n",
       "      <td>...</td>\n",
       "      <td>...</td>\n",
       "      <td>...</td>\n",
       "      <td>...</td>\n",
       "    </tr>\n",
       "    <tr>\n",
       "      <th>95</th>\n",
       "      <td>96</td>\n",
       "      <td>23.0</td>\n",
       "      <td>13985.01</td>\n",
       "      <td>31.28</td>\n",
       "      <td>1743.88</td>\n",
       "    </tr>\n",
       "    <tr>\n",
       "      <th>96</th>\n",
       "      <td>97</td>\n",
       "      <td>31.0</td>\n",
       "      <td>180615.47</td>\n",
       "      <td>83.26</td>\n",
       "      <td>30024.85</td>\n",
       "    </tr>\n",
       "    <tr>\n",
       "      <th>97</th>\n",
       "      <td>98</td>\n",
       "      <td>31.0</td>\n",
       "      <td>24969.37</td>\n",
       "      <td>60.20</td>\n",
       "      <td>16347.21</td>\n",
       "    </tr>\n",
       "    <tr>\n",
       "      <th>98</th>\n",
       "      <td>99</td>\n",
       "      <td>30.0</td>\n",
       "      <td>111302.76</td>\n",
       "      <td>NaN</td>\n",
       "      <td>11040.66</td>\n",
       "    </tr>\n",
       "    <tr>\n",
       "      <th>99</th>\n",
       "      <td>100</td>\n",
       "      <td>29.0</td>\n",
       "      <td>NaN</td>\n",
       "      <td>69.24</td>\n",
       "      <td>47364.75</td>\n",
       "    </tr>\n",
       "  </tbody>\n",
       "</table>\n",
       "<p>100 rows × 5 columns</p>\n",
       "</div>"
      ],
      "text/plain": [
       "     ID   Age     Income  Spend_Score   Savings\n",
       "0     1  32.0   27013.67        60.26   1463.65\n",
       "1     2  29.0   12558.37        89.07  20567.88\n",
       "2     3  33.0    6384.02        54.71    537.38\n",
       "3     4   NaN   20595.43       114.40  17626.95\n",
       "4     5  29.0  143156.06        72.51  56345.11\n",
       "..  ...   ...        ...          ...       ...\n",
       "95   96  23.0   13985.01        31.28   1743.88\n",
       "96   97  31.0  180615.47        83.26  30024.85\n",
       "97   98  31.0   24969.37        60.20  16347.21\n",
       "98   99  30.0  111302.76          NaN  11040.66\n",
       "99  100  29.0        NaN        69.24  47364.75\n",
       "\n",
       "[100 rows x 5 columns]"
      ]
     },
     "execution_count": 6,
     "metadata": {},
     "output_type": "execute_result"
    }
   ],
   "source": [
    "df"
   ]
  },
  {
   "cell_type": "code",
   "execution_count": 5,
   "id": "4975a012-3ce4-4f0d-9573-a3deacf5a6b8",
   "metadata": {},
   "outputs": [
    {
     "data": {
      "text/html": [
       "<div>\n",
       "<style scoped>\n",
       "    .dataframe tbody tr th:only-of-type {\n",
       "        vertical-align: middle;\n",
       "    }\n",
       "\n",
       "    .dataframe tbody tr th {\n",
       "        vertical-align: top;\n",
       "    }\n",
       "\n",
       "    .dataframe thead th {\n",
       "        text-align: right;\n",
       "    }\n",
       "</style>\n",
       "<table border=\"1\" class=\"dataframe\">\n",
       "  <thead>\n",
       "    <tr style=\"text-align: right;\">\n",
       "      <th></th>\n",
       "      <th>ID</th>\n",
       "      <th>Age</th>\n",
       "      <th>Income</th>\n",
       "      <th>Spend_Score</th>\n",
       "      <th>Savings</th>\n",
       "    </tr>\n",
       "  </thead>\n",
       "  <tbody>\n",
       "    <tr>\n",
       "      <th>0</th>\n",
       "      <td>1</td>\n",
       "      <td>32.0</td>\n",
       "      <td>27013.67</td>\n",
       "      <td>60.26</td>\n",
       "      <td>1463.65</td>\n",
       "    </tr>\n",
       "    <tr>\n",
       "      <th>1</th>\n",
       "      <td>2</td>\n",
       "      <td>29.0</td>\n",
       "      <td>12558.37</td>\n",
       "      <td>89.07</td>\n",
       "      <td>20567.88</td>\n",
       "    </tr>\n",
       "    <tr>\n",
       "      <th>2</th>\n",
       "      <td>3</td>\n",
       "      <td>33.0</td>\n",
       "      <td>6384.02</td>\n",
       "      <td>54.71</td>\n",
       "      <td>537.38</td>\n",
       "    </tr>\n",
       "    <tr>\n",
       "      <th>3</th>\n",
       "      <td>4</td>\n",
       "      <td>NaN</td>\n",
       "      <td>20595.43</td>\n",
       "      <td>114.40</td>\n",
       "      <td>17626.95</td>\n",
       "    </tr>\n",
       "    <tr>\n",
       "      <th>4</th>\n",
       "      <td>5</td>\n",
       "      <td>29.0</td>\n",
       "      <td>143156.06</td>\n",
       "      <td>72.51</td>\n",
       "      <td>56345.11</td>\n",
       "    </tr>\n",
       "  </tbody>\n",
       "</table>\n",
       "</div>"
      ],
      "text/plain": [
       "   ID   Age     Income  Spend_Score   Savings\n",
       "0   1  32.0   27013.67        60.26   1463.65\n",
       "1   2  29.0   12558.37        89.07  20567.88\n",
       "2   3  33.0    6384.02        54.71    537.38\n",
       "3   4   NaN   20595.43       114.40  17626.95\n",
       "4   5  29.0  143156.06        72.51  56345.11"
      ]
     },
     "execution_count": 5,
     "metadata": {},
     "output_type": "execute_result"
    }
   ],
   "source": [
    "df.head()"
   ]
  },
  {
   "cell_type": "code",
   "execution_count": 6,
   "id": "67bc81d0-d75d-4c23-9d98-ba0d61849f09",
   "metadata": {},
   "outputs": [
    {
     "data": {
      "text/html": [
       "<div>\n",
       "<style scoped>\n",
       "    .dataframe tbody tr th:only-of-type {\n",
       "        vertical-align: middle;\n",
       "    }\n",
       "\n",
       "    .dataframe tbody tr th {\n",
       "        vertical-align: top;\n",
       "    }\n",
       "\n",
       "    .dataframe thead th {\n",
       "        text-align: right;\n",
       "    }\n",
       "</style>\n",
       "<table border=\"1\" class=\"dataframe\">\n",
       "  <thead>\n",
       "    <tr style=\"text-align: right;\">\n",
       "      <th></th>\n",
       "      <th>ID</th>\n",
       "      <th>Age</th>\n",
       "      <th>Income</th>\n",
       "      <th>Spend_Score</th>\n",
       "      <th>Savings</th>\n",
       "    </tr>\n",
       "  </thead>\n",
       "  <tbody>\n",
       "    <tr>\n",
       "      <th>95</th>\n",
       "      <td>96</td>\n",
       "      <td>23.0</td>\n",
       "      <td>13985.01</td>\n",
       "      <td>31.28</td>\n",
       "      <td>1743.88</td>\n",
       "    </tr>\n",
       "    <tr>\n",
       "      <th>96</th>\n",
       "      <td>97</td>\n",
       "      <td>31.0</td>\n",
       "      <td>180615.47</td>\n",
       "      <td>83.26</td>\n",
       "      <td>30024.85</td>\n",
       "    </tr>\n",
       "    <tr>\n",
       "      <th>97</th>\n",
       "      <td>98</td>\n",
       "      <td>31.0</td>\n",
       "      <td>24969.37</td>\n",
       "      <td>60.20</td>\n",
       "      <td>16347.21</td>\n",
       "    </tr>\n",
       "    <tr>\n",
       "      <th>98</th>\n",
       "      <td>99</td>\n",
       "      <td>30.0</td>\n",
       "      <td>111302.76</td>\n",
       "      <td>NaN</td>\n",
       "      <td>11040.66</td>\n",
       "    </tr>\n",
       "    <tr>\n",
       "      <th>99</th>\n",
       "      <td>100</td>\n",
       "      <td>29.0</td>\n",
       "      <td>NaN</td>\n",
       "      <td>69.24</td>\n",
       "      <td>47364.75</td>\n",
       "    </tr>\n",
       "  </tbody>\n",
       "</table>\n",
       "</div>"
      ],
      "text/plain": [
       "     ID   Age     Income  Spend_Score   Savings\n",
       "95   96  23.0   13985.01        31.28   1743.88\n",
       "96   97  31.0  180615.47        83.26  30024.85\n",
       "97   98  31.0   24969.37        60.20  16347.21\n",
       "98   99  30.0  111302.76          NaN  11040.66\n",
       "99  100  29.0        NaN        69.24  47364.75"
      ]
     },
     "execution_count": 6,
     "metadata": {},
     "output_type": "execute_result"
    }
   ],
   "source": [
    "df.tail()"
   ]
  },
  {
   "cell_type": "code",
   "execution_count": 7,
   "id": "35568ab3-ec34-4e8e-8758-cfbb5fd48557",
   "metadata": {},
   "outputs": [
    {
     "name": "stdout",
     "output_type": "stream",
     "text": [
      "<class 'pandas.core.frame.DataFrame'>\n",
      "RangeIndex: 100 entries, 0 to 99\n",
      "Data columns (total 5 columns):\n",
      " #   Column       Non-Null Count  Dtype  \n",
      "---  ------       --------------  -----  \n",
      " 0   ID           100 non-null    int64  \n",
      " 1   Age          90 non-null     float64\n",
      " 2   Income       90 non-null     float64\n",
      " 3   Spend_Score  90 non-null     float64\n",
      " 4   Savings      90 non-null     float64\n",
      "dtypes: float64(4), int64(1)\n",
      "memory usage: 4.0 KB\n"
     ]
    }
   ],
   "source": [
    "df.info()"
   ]
  },
  {
   "cell_type": "code",
   "execution_count": 4,
   "id": "13b5a617-e3d1-44b7-89ef-061dea422168",
   "metadata": {
    "scrolled": true
   },
   "outputs": [
    {
     "data": {
      "text/plain": [
       "ID              0\n",
       "Age            10\n",
       "Income         10\n",
       "Spend_Score    10\n",
       "Savings        10\n",
       "dtype: int64"
      ]
     },
     "execution_count": 4,
     "metadata": {},
     "output_type": "execute_result"
    }
   ],
   "source": [
    "df.isnull().sum()"
   ]
  },
  {
   "cell_type": "code",
   "execution_count": 9,
   "id": "eb1d1d8f-831d-478d-97f3-1d22e16c21c3",
   "metadata": {},
   "outputs": [],
   "source": [
    "import seaborn as sns\n",
    "import matplotlib.pyplot as plt"
   ]
  },
  {
   "cell_type": "code",
   "execution_count": 1,
   "id": "f5927387-2c37-4238-ba84-acaca99b7692",
   "metadata": {},
   "outputs": [],
   "source": [
    "numeric_cols = ['Age', 'Income', 'Spend_Score', 'Savings']\n"
   ]
  },
  {
   "cell_type": "code",
   "execution_count": 33,
   "id": "95600d02-62a2-45fa-a297-a664237b322b",
   "metadata": {},
   "outputs": [
    {
     "data": {
      "image/png": "[encoded data removed]",
      "text/plain": [
       "<Figure size 600x300 with 1 Axes>"
      ]
     },
     "metadata": {},
     "output_type": "display_data"
    },
    {
     "data": {
      "image/png": "[encoded data removed]",
      "text/plain": [
       "<Figure size 600x300 with 1 Axes>"
      ]
     },
     "metadata": {},
     "output_type": "display_data"
    },
    {
     "data": {
      "image/png": "[encoded data removed]",
      "text/plain": [
       "<Figure size 600x300 with 1 Axes>"
      ]
     },
     "metadata": {},
     "output_type": "display_data"
    },
    {
     "data": {
      "image/png": "[encoded data removed]",
      "text/plain": [
       "<Figure size 600x300 with 1 Axes>"
      ]
     },
     "metadata": {},
     "output_type": "display_data"
    }
   ],
   "source": [
    "for col in numeric_cols:\n",
    "    plt.figure(figsize=(6, 3))\n",
    "    sns.boxplot(x=df[col])\n",
    "    plt.title(f'Boxplot of {col}')\n",
    "    plt.show()\n",
    "\n"
   ]
  },
  {
   "cell_type": "code",
   "execution_count": 31,
   "id": "4ac31271-8d27-479c-bc73-493dce57554f",
   "metadata": {},
   "outputs": [],
   "source": [
    "for col in columns:\n",
    "    df[col]=df[col].fillna(df[col].median())"
   ]
  },
  {
   "cell_type": "code",
   "execution_count": 32,
   "id": "68d19780-5c1b-4232-ac1d-681d0b2c0a84",
   "metadata": {},
   "outputs": [
    {
     "data": {
      "text/plain": [
       "ID             0\n",
       "Age            0\n",
       "Income         0\n",
       "Spend_Score    0\n",
       "Savings        0\n",
       "dtype: int64"
      ]
     },
     "execution_count": 32,
     "metadata": {},
     "output_type": "execute_result"
    }
   ],
   "source": [
    "df.isnull().sum()"
   ]
  },
  {
   "cell_type": "code",
   "execution_count": 9,
   "id": "7d04b91d-3e7a-4b65-b6b5-94de727f34e4",
   "metadata": {},
   "outputs": [
    {
     "data": {
      "text/plain": [
       "0"
      ]
     },
     "execution_count": 9,
     "metadata": {},
     "output_type": "execute_result"
    }
   ],
   "source": [
    "df.duplicated().sum()"
   ]
  },
  {
   "cell_type": "code",
   "execution_count": 35,
   "id": "6f450d75-60ad-4657-9c16-64a6955cec50",
   "metadata": {},
   "outputs": [
    {
     "data": {
      "image/png": "[encoded data removed]",
      "text/plain": [
       "<Figure size 600x300 with 1 Axes>"
      ]
     },
     "metadata": {},
     "output_type": "display_data"
    },
    {
     "data": {
      "image/png": "[encoded data removed]",
      "text/plain": [
       "<Figure size 600x300 with 1 Axes>"
      ]
     },
     "metadata": {},
     "output_type": "display_data"
    },
    {
     "data": {
      "image/png": "[encoded data removed]",
      "text/plain": [
       "<Figure size 600x300 with 1 Axes>"
      ]
     },
     "metadata": {},
     "output_type": "display_data"
    },
    {
     "data": {
      "image/png": "[encoded data removed]",
      "text/plain": [
       "<Figure size 600x300 with 1 Axes>"
      ]
     },
     "metadata": {},
     "output_type": "display_data"
    }
   ],
   "source": [
    "import seaborn as sns\n",
    "import matplotlib.pyplot as plt\n",
    "numeric_cols = ['Age', 'Income', 'Spend_Score', 'Savings']\n",
    "for col in numeric_cols:\n",
    "    plt.figure(figsize=(6, 3))\n",
    "    sns.boxplot(x=df[col])\n",
    "    plt.title(f'Boxplot of {col}')\n",
    "    plt.show()"
   ]
  },
  {
   "cell_type": "code",
   "execution_count": 18,
   "id": "ae889b7c-1925-4032-a4bf-c2778d0d27c6",
   "metadata": {},
   "outputs": [
    {
     "data": {
      "text/plain": [
       "0"
      ]
     },
     "execution_count": 18,
     "metadata": {},
     "output_type": "execute_result"
    }
   ],
   "source": [
    "df.duplicated().sum()"
   ]
  },
  {
   "cell_type": "code",
   "execution_count": null,
   "id": "2decac36-1fd2-46f6-a6cc-db5dbda4e0e8",
   "metadata": {},
   "outputs": [],
   "source": []
  },
  {
   "cell_type": "code",
   "execution_count": 37,
   "id": "f8a371f3-c7d0-49d1-aa03-3dbf87f7d617",
   "metadata": {},
   "outputs": [
    {
     "name": "stdout",
     "output_type": "stream",
     "text": [
      "0\n"
     ]
    }
   ],
   "source": [
    "col=\"ID\"\n",
    "Q1=df[col].quantile(0.25)\n",
    "Q3=df[col].quantile(0.75)\n",
    "IQR=Q3-Q1\n",
    "LOWER_BOUND = Q1-1.5*IQR\n",
    "UPPER_BOUND = Q3+1.5*IQR\n",
    "outliers = df[(df[col] < LOWER_BOUND) | (df[col] > UPPER_BOUND)]\n",
    "print(outliers.shape[0])"
   ]
  },
  {
   "cell_type": "code",
   "execution_count": 21,
   "id": "4caec414-8efb-425a-9414-0241d2da8770",
   "metadata": {},
   "outputs": [
    {
     "name": "stdout",
     "output_type": "stream",
     "text": [
      "1\n"
     ]
    }
   ],
   "source": [
    "col=\"Age\"\n",
    "Q1=df[col].quantile(0.25)\n",
    "Q3=df[col].quantile(0.75)\n",
    "IQR=Q3-Q1\n",
    "LOWER_BOUND = Q1-1.5*IQR\n",
    "UPPER_BOUND = Q3+1.5*IQR\n",
    "outliers = df[(df[col] < LOWER_BOUND) | (df[col] > UPPER_BOUND)]\n",
    "print(outliers.shape[0])"
   ]
  },
  {
   "cell_type": "code",
   "execution_count": 22,
   "id": "f21b2d06-18dd-490b-b5dc-c57200ce6a0b",
   "metadata": {},
   "outputs": [
    {
     "name": "stdout",
     "output_type": "stream",
     "text": [
      "7\n"
     ]
    }
   ],
   "source": [
    "col=\"Income\"\n",
    "Q1=df[col].quantile(0.25)\n",
    "Q3=df[col].quantile(0.75)\n",
    "IQR=Q3-Q1\n",
    "LOWER_BOUND = Q1-1.5*IQR\n",
    "UPPER_BOUND = Q3+1.5*IQR\n",
    "outliers = df[(df[col] < LOWER_BOUND) | (df[col] > UPPER_BOUND)]\n",
    "print(outliers.shape[0])"
   ]
  },
  {
   "cell_type": "code",
   "execution_count": 23,
   "id": "6120b41c-c0f7-4713-aef5-c47e0ce125a6",
   "metadata": {},
   "outputs": [
    {
     "name": "stdout",
     "output_type": "stream",
     "text": [
      "3\n"
     ]
    }
   ],
   "source": [
    "col=\"Spend_Score\"\n",
    "Q1=df[col].quantile(0.25)\n",
    "Q3=df[col].quantile(0.75)\n",
    "IQR=Q3-Q1\n",
    "LOWER_BOUND = Q1-1.5*IQR\n",
    "UPPER_BOUND = Q3+1.5*IQR\n",
    "outliers = df[(df[col] < LOWER_BOUND) | (df[col] > UPPER_BOUND)]\n",
    "print(outliers.shape[0])"
   ]
  },
  {
   "cell_type": "code",
   "execution_count": 24,
   "id": "66b9e8f3-c730-4af0-9a6d-dfe234b7bbb2",
   "metadata": {},
   "outputs": [
    {
     "name": "stdout",
     "output_type": "stream",
     "text": [
      "4\n"
     ]
    }
   ],
   "source": [
    "col=\"Savings\"\n",
    "Q1=df[col].quantile(0.25)\n",
    "Q3=df[col].quantile(0.75)\n",
    "IQR=Q3-Q1\n",
    "LOWER_BOUND = Q1-1.5*IQR\n",
    "UPPER_BOUND = Q3+1.5*IQR\n",
    "outliers = df[(df[col] < LOWER_BOUND) | (df[col] > UPPER_BOUND)]\n",
    "print(outliers.shape[0])"
   ]
  },
  {
   "cell_type": "code",
   "execution_count": 26,
   "id": "b58f77d6-51f8-4260-8fa7-aeb244d06788",
   "metadata": {},
   "outputs": [
    {
     "name": "stdout",
     "output_type": "stream",
     "text": [
      "ID: 0 outliers\n",
      "Age: 1 outliers\n",
      "Income: 7 outliers\n",
      "Spend_Score: 3 outliers\n",
      "Savings: 4 outliers\n"
     ]
    }
   ],
   "source": [
    "for col in columns:\n",
    "    Q1 = df[col].quantile(0.25)\n",
    "    Q3 = df[col].quantile(0.75)\n",
    "    IQR = Q3 - Q1\n",
    "    LOWER_BOUND = Q1 - 1.5 * IQR\n",
    "    UPPER_BOUND = Q3 + 1.5 * IQR\n",
    "    outliers = df[(df[col] < LOWER_BOUND) | (df[col] > UPPER_BOUND)]\n",
    "    print(f\"{col}: {outliers.shape[0]} outliers\")"
   ]
  },
  {
   "cell_type": "code",
   "execution_count": 7,
   "id": "ec622fe1-d43a-49ff-9698-d08aa140349f",
   "metadata": {},
   "outputs": [],
   "source": [
    "for col in columns:\n",
    "    Q1 = df[col].quantile(0.25)\n",
    "    Q3 = df[col].quantile(0.75)\n",
    "    IQR = Q3 - Q1\n",
    "    lower_bound = Q1 - 1.5 * IQR\n",
    "    upper_bound = Q3 + 1.5 * IQR\n",
    "\n",
    "    df[col] = df[col].clip(lower=lower_bound, upper=upper_bound)"
   ]
  },
  {
   "cell_type": "code",
   "execution_count": 8,
   "id": "46100215-9293-4040-850e-93eca4efac97",
   "metadata": {},
   "outputs": [
    {
     "name": "stdout",
     "output_type": "stream",
     "text": [
      "Age: 0 outliers\n",
      "Income: 0 outliers\n",
      "Spend_Score: 0 outliers\n",
      "Savings: 0 outliers\n"
     ]
    }
   ],
   "source": [
    "for col in columns:\n",
    "    Q1 = df[col].quantile(0.25)\n",
    "    Q3 = df[col].quantile(0.75)\n",
    "    IQR = Q3 - Q1\n",
    "    lower_bound = Q1 - 1.5 * IQR\n",
    "    upper_bound = Q3 + 1.5 * IQR\n",
    "\n",
    "    outliers = df[(df[col] < lower_bound) | (df[col] > upper_bound)]\n",
    "    print(f\"{col}: {outliers.shape[0]} outliers\")"
   ]
  },
  {
   "cell_type": "code",
   "execution_count": null,
   "id": "acf25869-9798-4046-b80e-8ea3ee30be2d",
   "metadata": {},
   "outputs": [],
   "source": []
  }
 ],
 "metadata": {
  "kernelspec": {
   "display_name": "Python 3 (ipykernel)",
   "language": "python",
   "name": "python3"
  },
  "language_info": {
   "codemirror_mode": {
    "name": "ipython",
    "version": 3
   },
   "file_extension": ".py",
   "mimetype": "text/x-python",
   "name": "python",
   "nbconvert_exporter": "python",
   "pygments_lexer": "ipython3",
   "version": "3.12.7"
  }
 },
 "nbformat": 4,
 "nbformat_minor": 5
}
